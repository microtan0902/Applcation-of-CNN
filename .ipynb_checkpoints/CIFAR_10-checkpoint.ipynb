{
 "cells": [
  {
   "cell_type": "markdown",
   "metadata": {
    "colab_type": "text",
    "id": "view-in-github"
   },
   "source": [
    "<a href=\"https://colab.research.google.com/github/dshahid380/CIFAR-10/blob/master/CIFAR_10.ipynb\" target=\"_parent\"><img src=\"https://colab.research.google.com/assets/colab-badge.svg\" alt=\"Open In Colab\"/></a>"
   ]
  },
  {
   "cell_type": "markdown",
   "metadata": {},
   "source": [
    "# Convolutional Neural Network\n",
    "### Learn Convolutional Neural Network from basic and its implementation in Keras\n",
    "- dshahid380 Feb 24, 2019·9 min read\n",
    "- https://towardsdatascience.com/covolutional-neural-network-cb0883dd6529"
   ]
  },
  {
   "cell_type": "code",
   "execution_count": 1,
   "metadata": {
    "colab": {
     "base_uri": "https://localhost:8080/",
     "height": 34
    },
    "colab_type": "code",
    "id": "_OEINmq_JYmF",
    "outputId": "a7902e89-6f7c-4399-9cf3-3fa6b2c33fa2"
   },
   "outputs": [
    {
     "ename": "SystemError",
     "evalue": "GPU device not found",
     "output_type": "error",
     "traceback": [
      "\u001b[0;31m---------------------------------------------------------------------------\u001b[0m",
      "\u001b[0;31mSystemError\u001b[0m                               Traceback (most recent call last)",
      "\u001b[0;32m<ipython-input-1-d1680108c58e>\u001b[0m in \u001b[0;36m<module>\u001b[0;34m\u001b[0m\n\u001b[1;32m      2\u001b[0m \u001b[0mdevice_name\u001b[0m \u001b[0;34m=\u001b[0m \u001b[0mtf\u001b[0m\u001b[0;34m.\u001b[0m\u001b[0mtest\u001b[0m\u001b[0;34m.\u001b[0m\u001b[0mgpu_device_name\u001b[0m\u001b[0;34m(\u001b[0m\u001b[0;34m)\u001b[0m\u001b[0;34m\u001b[0m\u001b[0;34m\u001b[0m\u001b[0m\n\u001b[1;32m      3\u001b[0m \u001b[0;32mif\u001b[0m \u001b[0mdevice_name\u001b[0m \u001b[0;34m!=\u001b[0m \u001b[0;34m'/device:GPU:0'\u001b[0m\u001b[0;34m:\u001b[0m\u001b[0;34m\u001b[0m\u001b[0;34m\u001b[0m\u001b[0m\n\u001b[0;32m----> 4\u001b[0;31m   \u001b[0;32mraise\u001b[0m \u001b[0mSystemError\u001b[0m\u001b[0;34m(\u001b[0m\u001b[0;34m'GPU device not found'\u001b[0m\u001b[0;34m)\u001b[0m\u001b[0;34m\u001b[0m\u001b[0;34m\u001b[0m\u001b[0m\n\u001b[0m\u001b[1;32m      5\u001b[0m \u001b[0mprint\u001b[0m\u001b[0;34m(\u001b[0m\u001b[0;34m'Found GPU at: {}'\u001b[0m\u001b[0;34m.\u001b[0m\u001b[0mformat\u001b[0m\u001b[0;34m(\u001b[0m\u001b[0mdevice_name\u001b[0m\u001b[0;34m)\u001b[0m\u001b[0;34m)\u001b[0m\u001b[0;34m\u001b[0m\u001b[0;34m\u001b[0m\u001b[0m\n",
      "\u001b[0;31mSystemError\u001b[0m: GPU device not found"
     ]
    }
   ],
   "source": [
    "import tensorflow as tf\n",
    "device_name = tf.test.gpu_device_name()\n",
    "if device_name != '/device:GPU:0':\n",
    "  raise SystemError('GPU device not found')\n",
    "print('Found GPU at: {}'.format(device_name))"
   ]
  },
  {
   "cell_type": "code",
   "execution_count": 12,
   "metadata": {},
   "outputs": [],
   "source": [
    "import numpy as np\n",
    "import matplotlib.pyplot as plt\n",
    "%matplotlib inline"
   ]
  },
  {
   "cell_type": "code",
   "execution_count": 13,
   "metadata": {
    "colab": {
     "base_uri": "https://localhost:8080/",
     "height": 34
    },
    "colab_type": "code",
    "id": "t_vqQD_W8fpH",
    "outputId": "998e56d7-80ed-448d-898c-65ccf54ed076"
   },
   "outputs": [],
   "source": [
    "from __future__ import print_function\n",
    "import keras\n",
    "from keras.models import Sequential\n",
    "from keras.layers import Dense, Conv2D, MaxPooling2D, Dropout, Flatten"
   ]
  },
  {
   "cell_type": "code",
   "execution_count": 14,
   "metadata": {
    "colab": {
     "base_uri": "https://localhost:8080/",
     "height": 51
    },
    "colab_type": "code",
    "id": "6xO9y6leM4r9",
    "outputId": "85497ea4-2ebc-4707-a9e5-214f6feb1b74"
   },
   "outputs": [],
   "source": [
    "from keras.datasets import cifar10\n",
    "(train_images, train_labels), (test_images, test_labels) = cifar10.load_data()"
   ]
  },
  {
   "cell_type": "code",
   "execution_count": 15,
   "metadata": {
    "colab": {},
    "colab_type": "code",
    "id": "L0azwFRuGL-s"
   },
   "outputs": [],
   "source": [
    "from keras.utils import to_categorical"
   ]
  },
  {
   "cell_type": "code",
   "execution_count": 18,
   "metadata": {
    "colab": {
     "base_uri": "https://localhost:8080/",
     "height": 249
    },
    "colab_type": "code",
    "id": "5W1zMZll9Y9g",
    "outputId": "bc48df8a-b3f6-422b-b8e6-0265b08628dc"
   },
   "outputs": [
    {
     "name": "stdout",
     "output_type": "stream",
     "text": [
      "Training data shape :  (50000, 32, 32, 3) (50000, 1)\n",
      "Testing data shape :  (10000, 32, 32, 3) (10000, 1)\n",
      "Total number of outputs :  10\n",
      "Output classes :  [0 1 2 3 4 5 6 7 8 9]\n"
     ]
    },
    {
     "data": {
      "text/plain": [
       "Text(0.5, 1.0, 'Ground Truth : [3]')"
      ]
     },
     "execution_count": 18,
     "metadata": {},
     "output_type": "execute_result"
    },
    {
     "data": {
      "image/png": "[encoded data removed]",
      "text/plain": [
       "<Figure size 288x144 with 2 Axes>"
      ]
     },
     "metadata": {
      "needs_background": "light"
     },
     "output_type": "display_data"
    }
   ],
   "source": [
    "print('Training data shape : ', train_images.shape, train_labels.shape)\n",
    "\n",
    "print('Testing data shape : ', test_images.shape, test_labels.shape)\n",
    "\n",
    "# Find the unique numbers from the train labels\n",
    "classes = np.unique(train_labels)\n",
    "nClasses = len(classes)\n",
    "print('Total number of outputs : ', nClasses)\n",
    "print('Output classes : ', classes)\n",
    "\n",
    "plt.figure(figsize=[4,2])\n",
    "\n",
    "# Display the first image in training data\n",
    "plt.subplot(121)\n",
    "plt.imshow(train_images[0,:,:], cmap='gray')\n",
    "plt.title(\"Ground Truth : {}\".format(train_labels[0]))\n",
    "\n",
    "# Display the first image in testing data\n",
    "plt.subplot(122)\n",
    "plt.imshow(test_images[0,:,:], cmap='gray')\n",
    "plt.title(\"Ground Truth : {}\".format(test_labels[0]))"
   ]
  },
  {
   "cell_type": "code",
   "execution_count": 19,
   "metadata": {
    "colab": {},
    "colab_type": "code",
    "id": "DgFUB6t5Jn0Y"
   },
   "outputs": [],
   "source": [
    "# Find the shape of input images and create the variable input_shape\n",
    "nRows,nCols,nDims = train_images.shape[1:]\n",
    "train_data = train_images.reshape(train_images.shape[0], nRows, nCols, nDims)\n",
    "test_data = test_images.reshape(test_images.shape[0], nRows, nCols, nDims)\n",
    "input_shape = (nRows, nCols, nDims)\n",
    "\n",
    "# Change to float datatype\n",
    "train_data = train_data.astype('float32')\n",
    "test_data = test_data.astype('float32')\n",
    "\n",
    "# Scale the data to lie between 0 to 1\n",
    "train_data /= 255\n",
    "test_data /= 255\n",
    "\n",
    "# Change the labels from integer to categorical data\n",
    "train_labels_one_hot = to_categorical(train_labels)\n",
    "test_labels_one_hot = to_categorical(test_labels)"
   ]
  },
  {
   "cell_type": "code",
   "execution_count": 20,
   "metadata": {
    "colab": {
     "base_uri": "https://localhost:8080/",
     "height": 51
    },
    "colab_type": "code",
    "id": "-lVLuxZzJnxK",
    "outputId": "77a5fc1f-a169-42de-f105-95794ac43f22"
   },
   "outputs": [
    {
     "name": "stdout",
     "output_type": "stream",
     "text": [
      "Original label 0 :  [6]\n",
      "After conversion to categorical ( one-hot ) :  [0. 0. 0. 0. 0. 0. 1. 0. 0. 0.]\n"
     ]
    }
   ],
   "source": [
    "# Display the change for category label using one-hot encoding\n",
    "print('Original label 0 : ', train_labels[0])\n",
    "print('After conversion to categorical ( one-hot ) : ', train_labels_one_hot[0])"
   ]
  },
  {
   "cell_type": "code",
   "execution_count": 21,
   "metadata": {
    "colab": {},
    "colab_type": "code",
    "id": "cxG_ykxV9ZL6"
   },
   "outputs": [],
   "source": [
    "def createModel():\n",
    "    model = Sequential()\n",
    "    # The first two layers with 32 filters of window size 3x3\n",
    "    model.add(Conv2D(32, (3, 3), padding='same', activation='relu', input_shape=input_shape))\n",
    "    model.add(Conv2D(32, (3, 3), activation='relu'))\n",
    "    model.add(MaxPooling2D(pool_size=(2, 2)))\n",
    "    model.add(Dropout(0.25))\n",
    "\n",
    "    model.add(Conv2D(64, (3, 3), padding='same', activation='relu'))\n",
    "    model.add(Conv2D(64, (3, 3), activation='relu'))\n",
    "    model.add(MaxPooling2D(pool_size=(2, 2)))\n",
    "    model.add(Dropout(0.25))\n",
    "\n",
    "    model.add(Conv2D(64, (3, 3), padding='same', activation='relu'))\n",
    "    model.add(Conv2D(64, (3, 3), activation='relu'))\n",
    "    model.add(MaxPooling2D(pool_size=(2, 2)))\n",
    "    model.add(Dropout(0.25))\n",
    "\n",
    "    model.add(Flatten())\n",
    "    model.add(Dense(512, activation='relu'))\n",
    "    model.add(Dropout(0.5))\n",
    "    model.add(Dense(nClasses, activation='softmax'))\n",
    "    \n",
    "    return model"
   ]
  },
  {
   "cell_type": "code",
   "execution_count": 22,
   "metadata": {
    "colab": {
     "base_uri": "https://localhost:8080/",
     "height": 2604
    },
    "colab_type": "code",
    "id": "dDZ_t9ju9ZWB",
    "outputId": "eb90a0d3-3147-4f06-e625-685399d2ee65"
   },
   "outputs": [
    {
     "name": "stdout",
     "output_type": "stream",
     "text": [
      "Model: \"sequential\"\n",
      "_________________________________________________________________\n",
      "Layer (type)                 Output Shape              Param #   \n",
      "=================================================================\n",
      "conv2d (Conv2D)              (None, 32, 32, 32)        896       \n",
      "_________________________________________________________________\n",
      "conv2d_1 (Conv2D)            (None, 30, 30, 32)        9248      \n",
      "_________________________________________________________________\n",
      "max_pooling2d (MaxPooling2D) (None, 15, 15, 32)        0         \n",
      "_________________________________________________________________\n",
      "dropout (Dropout)            (None, 15, 15, 32)        0         \n",
      "_________________________________________________________________\n",
      "conv2d_2 (Conv2D)            (None, 15, 15, 64)        18496     \n",
      "_________________________________________________________________\n",
      "conv2d_3 (Conv2D)            (None, 13, 13, 64)        36928     \n",
      "_________________________________________________________________\n",
      "max_pooling2d_1 (MaxPooling2 (None, 6, 6, 64)          0         \n",
      "_________________________________________________________________\n",
      "dropout_1 (Dropout)          (None, 6, 6, 64)          0         \n",
      "_________________________________________________________________\n",
      "conv2d_4 (Conv2D)            (None, 6, 6, 64)          36928     \n",
      "_________________________________________________________________\n",
      "conv2d_5 (Conv2D)            (None, 4, 4, 64)          36928     \n",
      "_________________________________________________________________\n",
      "max_pooling2d_2 (MaxPooling2 (None, 2, 2, 64)          0         \n",
      "_________________________________________________________________\n",
      "dropout_2 (Dropout)          (None, 2, 2, 64)          0         \n",
      "_________________________________________________________________\n",
      "flatten (Flatten)            (None, 256)               0         \n",
      "_________________________________________________________________\n",
      "dense (Dense)                (None, 512)               131584    \n",
      "_________________________________________________________________\n",
      "dropout_3 (Dropout)          (None, 512)               0         \n",
      "_________________________________________________________________\n",
      "dense_1 (Dense)              (None, 10)                5130      \n",
      "=================================================================\n",
      "Total params: 276,138\n",
      "Trainable params: 276,138\n",
      "Non-trainable params: 0\n",
      "_________________________________________________________________\n",
      "Epoch 1/50\n",
      "196/196 [==============================] - 53s 273ms/step - loss: 2.0388 - accuracy: 0.2476 - val_loss: 1.8338 - val_accuracy: 0.3421\n",
      "Epoch 2/50\n",
      "196/196 [==============================] - 51s 258ms/step - loss: 1.7043 - accuracy: 0.3837 - val_loss: 1.5285 - val_accuracy: 0.4394\n",
      "Epoch 3/50\n",
      "196/196 [==============================] - 51s 258ms/step - loss: 1.5282 - accuracy: 0.4475 - val_loss: 1.3545 - val_accuracy: 0.5075\n",
      "Epoch 4/50\n",
      "196/196 [==============================] - 51s 261ms/step - loss: 1.4032 - accuracy: 0.4986 - val_loss: 1.3431 - val_accuracy: 0.5262\n",
      "Epoch 5/50\n",
      "196/196 [==============================] - 50s 255ms/step - loss: 1.2923 - accuracy: 0.5382 - val_loss: 1.4165 - val_accuracy: 0.4916\n",
      "Epoch 6/50\n",
      "196/196 [==============================] - 52s 263ms/step - loss: 1.2146 - accuracy: 0.5715 - val_loss: 1.1075 - val_accuracy: 0.6183\n",
      "Epoch 7/50\n",
      "196/196 [==============================] - 51s 258ms/step - loss: 1.1423 - accuracy: 0.5932 - val_loss: 1.0855 - val_accuracy: 0.6112\n",
      "Epoch 8/50\n",
      "196/196 [==============================] - 51s 262ms/step - loss: 1.0690 - accuracy: 0.6226 - val_loss: 1.2038 - val_accuracy: 0.5827\n",
      "Epoch 9/50\n",
      "196/196 [==============================] - 51s 260ms/step - loss: 1.0179 - accuracy: 0.6432 - val_loss: 0.8985 - val_accuracy: 0.6863\n",
      "Epoch 10/50\n",
      "196/196 [==============================] - 52s 265ms/step - loss: 0.9594 - accuracy: 0.6635 - val_loss: 0.8940 - val_accuracy: 0.6896\n",
      "Epoch 11/50\n",
      "196/196 [==============================] - 54s 274ms/step - loss: 0.9195 - accuracy: 0.6798 - val_loss: 0.8753 - val_accuracy: 0.6920\n",
      "Epoch 12/50\n",
      "196/196 [==============================] - 52s 263ms/step - loss: 0.8702 - accuracy: 0.6957 - val_loss: 0.8864 - val_accuracy: 0.6968\n",
      "Epoch 13/50\n",
      "196/196 [==============================] - 53s 272ms/step - loss: 0.8371 - accuracy: 0.7096 - val_loss: 0.8655 - val_accuracy: 0.6917\n",
      "Epoch 14/50\n",
      "196/196 [==============================] - 53s 271ms/step - loss: 0.8076 - accuracy: 0.7203 - val_loss: 0.8587 - val_accuracy: 0.7049\n",
      "Epoch 15/50\n",
      "196/196 [==============================] - 51s 262ms/step - loss: 0.7779 - accuracy: 0.7310 - val_loss: 0.8524 - val_accuracy: 0.7084\n",
      "Epoch 16/50\n",
      "196/196 [==============================] - 52s 264ms/step - loss: 0.7533 - accuracy: 0.7382 - val_loss: 0.7864 - val_accuracy: 0.7304\n",
      "Epoch 17/50\n",
      "196/196 [==============================] - 54s 275ms/step - loss: 0.7386 - accuracy: 0.7448 - val_loss: 0.7337 - val_accuracy: 0.7508\n",
      "Epoch 18/50\n",
      "196/196 [==============================] - 55s 282ms/step - loss: 0.7072 - accuracy: 0.7533 - val_loss: 0.6974 - val_accuracy: 0.7591\n",
      "Epoch 19/50\n",
      "196/196 [==============================] - 55s 279ms/step - loss: 0.6950 - accuracy: 0.7598 - val_loss: 0.7289 - val_accuracy: 0.7446\n",
      "Epoch 20/50\n",
      "196/196 [==============================] - 54s 274ms/step - loss: 0.6715 - accuracy: 0.7665 - val_loss: 0.7408 - val_accuracy: 0.7473\n",
      "Epoch 21/50\n",
      "196/196 [==============================] - 56s 284ms/step - loss: 0.6598 - accuracy: 0.7699 - val_loss: 0.7167 - val_accuracy: 0.7550\n",
      "Epoch 22/50\n",
      "196/196 [==============================] - 55s 279ms/step - loss: 0.6422 - accuracy: 0.7766 - val_loss: 0.6687 - val_accuracy: 0.7704\n",
      "Epoch 23/50\n",
      "196/196 [==============================] - 54s 275ms/step - loss: 0.6321 - accuracy: 0.7816 - val_loss: 0.6960 - val_accuracy: 0.7645\n",
      "Epoch 24/50\n",
      "196/196 [==============================] - 56s 284ms/step - loss: 0.6166 - accuracy: 0.7857 - val_loss: 0.6502 - val_accuracy: 0.7818\n",
      "Epoch 25/50\n",
      "196/196 [==============================] - 59s 301ms/step - loss: 0.6052 - accuracy: 0.7906 - val_loss: 0.7381 - val_accuracy: 0.7609\n",
      "Epoch 26/50\n",
      "196/196 [==============================] - 54s 273ms/step - loss: 0.5925 - accuracy: 0.7956 - val_loss: 0.8668 - val_accuracy: 0.7271\n",
      "Epoch 27/50\n",
      "196/196 [==============================] - 56s 284ms/step - loss: 0.5879 - accuracy: 0.7960 - val_loss: 0.6488 - val_accuracy: 0.7837\n",
      "Epoch 28/50\n",
      "196/196 [==============================] - 52s 267ms/step - loss: 0.5730 - accuracy: 0.8012 - val_loss: 0.7171 - val_accuracy: 0.7656\n",
      "Epoch 29/50\n",
      "196/196 [==============================] - 52s 264ms/step - loss: 0.5702 - accuracy: 0.8022 - val_loss: 0.6365 - val_accuracy: 0.7904\n",
      "Epoch 30/50\n",
      "196/196 [==============================] - 53s 270ms/step - loss: 0.5560 - accuracy: 0.8090 - val_loss: 0.7291 - val_accuracy: 0.7618\n",
      "Epoch 31/50\n",
      "196/196 [==============================] - 50s 255ms/step - loss: 0.5513 - accuracy: 0.8092 - val_loss: 0.7628 - val_accuracy: 0.7551\n",
      "Epoch 32/50\n",
      "196/196 [==============================] - 51s 258ms/step - loss: 0.5462 - accuracy: 0.8109 - val_loss: 0.6848 - val_accuracy: 0.7771\n",
      "Epoch 33/50\n",
      "196/196 [==============================] - 50s 255ms/step - loss: 0.5363 - accuracy: 0.8137 - val_loss: 0.6767 - val_accuracy: 0.7845\n",
      "Epoch 34/50\n",
      "196/196 [==============================] - 49s 252ms/step - loss: 0.5322 - accuracy: 0.8153 - val_loss: 0.6817 - val_accuracy: 0.7764\n",
      "Epoch 35/50\n",
      "196/196 [==============================] - 51s 263ms/step - loss: 0.5251 - accuracy: 0.8173 - val_loss: 0.6332 - val_accuracy: 0.7920\n",
      "Epoch 36/50\n",
      "196/196 [==============================] - 51s 260ms/step - loss: 0.5237 - accuracy: 0.8188 - val_loss: 0.6369 - val_accuracy: 0.8011\n",
      "Epoch 37/50\n",
      "196/196 [==============================] - 52s 266ms/step - loss: 0.5124 - accuracy: 0.8214 - val_loss: 0.7322 - val_accuracy: 0.7791\n",
      "Epoch 38/50\n",
      "196/196 [==============================] - 54s 277ms/step - loss: 0.5061 - accuracy: 0.8251 - val_loss: 0.6457 - val_accuracy: 0.7911\n",
      "Epoch 39/50\n",
      "196/196 [==============================] - 54s 275ms/step - loss: 0.5067 - accuracy: 0.8263 - val_loss: 0.7027 - val_accuracy: 0.7836\n",
      "Epoch 40/50\n",
      "196/196 [==============================] - 51s 259ms/step - loss: 0.5009 - accuracy: 0.8262 - val_loss: 0.6668 - val_accuracy: 0.7980\n",
      "Epoch 41/50\n",
      "196/196 [==============================] - 51s 259ms/step - loss: 0.4998 - accuracy: 0.8267 - val_loss: 0.6574 - val_accuracy: 0.7824\n",
      "Epoch 42/50\n",
      "196/196 [==============================] - 52s 265ms/step - loss: 0.4887 - accuracy: 0.8303 - val_loss: 0.6274 - val_accuracy: 0.8058\n",
      "Epoch 43/50\n",
      "196/196 [==============================] - 51s 260ms/step - loss: 0.4929 - accuracy: 0.8313 - val_loss: 0.6730 - val_accuracy: 0.7979\n",
      "Epoch 44/50\n",
      "196/196 [==============================] - 52s 266ms/step - loss: 0.4796 - accuracy: 0.8346 - val_loss: 0.7081 - val_accuracy: 0.7861\n",
      "Epoch 45/50\n",
      "196/196 [==============================] - 51s 258ms/step - loss: 0.4809 - accuracy: 0.8356 - val_loss: 0.5880 - val_accuracy: 0.8138\n",
      "Epoch 46/50\n",
      "196/196 [==============================] - 51s 259ms/step - loss: 0.4826 - accuracy: 0.8344 - val_loss: 0.7080 - val_accuracy: 0.7797\n",
      "Epoch 47/50\n",
      "196/196 [==============================] - 51s 260ms/step - loss: 0.4800 - accuracy: 0.8351 - val_loss: 0.6913 - val_accuracy: 0.7932\n",
      "Epoch 48/50\n",
      "196/196 [==============================] - 50s 254ms/step - loss: 0.4740 - accuracy: 0.8357 - val_loss: 0.7130 - val_accuracy: 0.7751\n",
      "Epoch 49/50\n",
      "196/196 [==============================] - 51s 259ms/step - loss: 0.4678 - accuracy: 0.8404 - val_loss: 0.6477 - val_accuracy: 0.8027\n",
      "Epoch 50/50\n",
      "196/196 [==============================] - 50s 256ms/step - loss: 0.4697 - accuracy: 0.8387 - val_loss: 0.6452 - val_accuracy: 0.7993\n",
      "313/313 [==============================] - 2s 6ms/step - loss: 0.6452 - accuracy: 0.7993\n"
     ]
    },
    {
     "data": {
      "text/plain": [
       "[0.6452131271362305, 0.7993000149726868]"
      ]
     },
     "execution_count": 22,
     "metadata": {},
     "output_type": "execute_result"
    }
   ],
   "source": [
    "model1 = createModel()\n",
    "batch_size = 256\n",
    "epochs = 50\n",
    "model1.compile(optimizer='rmsprop', loss='categorical_crossentropy', metrics=['accuracy'])\n",
    "\n",
    "model1.summary()\n",
    "\n",
    "history = model1.fit(train_data, train_labels_one_hot, batch_size=batch_size, epochs=epochs, verbose=1, \n",
    "                   validation_data=(test_data, test_labels_one_hot))\n",
    "model1.evaluate(test_data, test_labels_one_hot)"
   ]
  },
  {
   "cell_type": "code",
   "execution_count": 25,
   "metadata": {
    "colab": {
     "base_uri": "https://localhost:8080/",
     "height": 428
    },
    "colab_type": "code",
    "id": "Ry7zxnak9ZfO",
    "outputId": "b731e871-4ef8-4c16-a929-2efd82cd47ed"
   },
   "outputs": [
    {
     "data": {
      "text/plain": [
       "Text(0.5, 1.0, 'Loss Curves')"
      ]
     },
     "execution_count": 25,
     "metadata": {},
     "output_type": "execute_result"
    },
    {
     "data": {
      "image/png": "[encoded data removed]",
      "text/plain": [
       "<Figure size 576x432 with 1 Axes>"
      ]
     },
     "metadata": {
      "needs_background": "light"
     },
     "output_type": "display_data"
    }
   ],
   "source": [
    "plt.figure(figsize=[8,6])\n",
    "plt.plot(history.history['loss'],'r',linewidth=3.0)\n",
    "plt.plot(history.history['val_loss'],'b',linewidth=3.0)\n",
    "plt.legend(['Training loss', 'Validation Loss'],fontsize=18)\n",
    "plt.xlabel('Epochs ',fontsize=16)\n",
    "plt.ylabel('Loss',fontsize=16)\n",
    "plt.title('Loss Curves',fontsize=16)"
   ]
  },
  {
   "cell_type": "code",
   "execution_count": 31,
   "metadata": {
    "colab": {
     "base_uri": "https://localhost:8080/",
     "height": 428
    },
    "colab_type": "code",
    "id": "z24spJfG9ZyE",
    "outputId": "625d0930-d7ec-4b22-f204-eda7ccc885d8"
   },
   "outputs": [
    {
     "data": {
      "text/plain": [
       "Text(0.5, 1.0, 'Accuracy Curves')"
      ]
     },
     "execution_count": 31,
     "metadata": {},
     "output_type": "execute_result"
    },
    {
     "data": {
      "image/png": "[encoded data removed]",
      "text/plain": [
       "<Figure size 576x432 with 1 Axes>"
      ]
     },
     "metadata": {
      "needs_background": "light"
     },
     "output_type": "display_data"
    }
   ],
   "source": [
    "plt.figure(figsize=[8,6])\n",
    "plt.plot(history.history['accuracy'],'r',linewidth=3.0)\n",
    "plt.plot(history.history['val_accuracy'],'b',linewidth=3.0)\n",
    "plt.legend(['Training Accuracy', 'Validation Accuracy'],fontsize=18)\n",
    "plt.xlabel('Epochs ',fontsize=16)\n",
    "plt.ylabel('Accuracy',fontsize=16)\n",
    "plt.title('Accuracy Curves',fontsize=16)"
   ]
  },
  {
   "cell_type": "code",
   "execution_count": null,
   "metadata": {
    "colab": {},
    "colab_type": "code",
    "id": "mYVuG5OOMVZD"
   },
   "outputs": [],
   "source": []
  },
  {
   "cell_type": "code",
   "execution_count": null,
   "metadata": {
    "colab": {},
    "colab_type": "code",
    "id": "gwbqSjX-9Z0Y"
   },
   "outputs": [],
   "source": []
  }
 ],
 "metadata": {
  "accelerator": "GPU",
  "colab": {
   "include_colab_link": true,
   "name": "CIFAR-10.ipynb",
   "provenance": [],
   "version": "0.3.2"
  },
  "kernelspec": {
   "display_name": "Python 3",
   "language": "python",
   "name": "python3"
  },
  "language_info": {
   "codemirror_mode": {
    "name": "ipython",
    "version": 3
   },
   "file_extension": ".py",
   "mimetype": "text/x-python",
   "name": "python",
   "nbconvert_exporter": "python",
   "pygments_lexer": "ipython3",
   "version": "3.7.4"
  }
 },
 "nbformat": 4,
 "nbformat_minor": 4
}
